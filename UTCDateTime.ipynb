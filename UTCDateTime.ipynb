{
 "cells": [
  {
   "cell_type": "markdown",
   "metadata": {},
   "source": [
    "# 2. UTCDateTime\n",
    "All absolute time values within ObsPy are consistently handled with the UTCDateTime class. It is based on a high precision POSIX timestamp and not the Python datetime class because precision was an issue.\n",
    "## 2.1 Initialization"
   ]
  },
  {
   "cell_type": "code",
   "execution_count": 3,
   "metadata": {},
   "outputs": [],
   "source": [
    "from obspy.core import UTCDateTime"
   ]
  },
  {
   "cell_type": "code",
   "execution_count": 4,
   "metadata": {},
   "outputs": [
    {
     "data": {
      "text/plain": [
       "2012-09-07T12:15:00.000000Z"
      ]
     },
     "execution_count": 4,
     "metadata": {},
     "output_type": "execute_result"
    }
   ],
   "source": [
    "UTCDateTime(\"2012-09-07T12:15:00\") #calender date"
   ]
  },
  {
   "cell_type": "code",
   "execution_count": 5,
   "metadata": {},
   "outputs": [
    {
     "data": {
      "text/plain": [
       "2012-09-07T12:15:00.000000Z"
      ]
     },
     "execution_count": 5,
     "metadata": {},
     "output_type": "execute_result"
    }
   ],
   "source": [
    "UTCDateTime(2012, 9, 7, 12, 15, 0)"
   ]
  },
  {
   "cell_type": "code",
   "execution_count": 6,
   "metadata": {},
   "outputs": [
    {
     "data": {
      "text/plain": [
       "2012-09-07T12:15:00.000000Z"
      ]
     },
     "execution_count": 6,
     "metadata": {},
     "output_type": "execute_result"
    }
   ],
   "source": [
    "UTCDateTime(1347020100.0) #timestamp\n",
    "#Unix time (count in second since 1 Jan 1970 0:00:00)"
   ]
  },
  {
   "cell_type": "code",
   "execution_count": 7,
   "metadata": {},
   "outputs": [
    {
     "data": {
      "text/plain": [
       "2012-09-07T10:15:00.000000Z"
      ]
     },
     "execution_count": 7,
     "metadata": {},
     "output_type": "execute_result"
    }
   ],
   "source": [
    "UTCDateTime(\"2012-09-07T12:15:00+02:00\") \n",
    "#calender date (timezone +2.00)"
   ]
  },
  {
   "cell_type": "code",
   "execution_count": 8,
   "metadata": {
    "scrolled": true
   },
   "outputs": [
    {
     "data": {
      "text/plain": [
       "2009-12-31T12:23:34.500000Z"
      ]
     },
     "execution_count": 8,
     "metadata": {},
     "output_type": "execute_result"
    }
   ],
   "source": [
    "UTCDateTime(\"2009365T122334.5\") #calender date compact"
   ]
  },
  {
   "cell_type": "code",
   "execution_count": 9,
   "metadata": {},
   "outputs": [
    {
     "data": {
      "text/plain": [
       "2010-01-03T12:23:34.500000Z"
      ]
     },
     "execution_count": 9,
     "metadata": {},
     "output_type": "execute_result"
    }
   ],
   "source": [
    "UTCDateTime(\"2009-W53-7T12:23:34.5\") #calender week date"
   ]
  },
  {
   "cell_type": "code",
   "execution_count": 10,
   "metadata": {},
   "outputs": [
    {
     "data": {
      "text/plain": [
       "2009-05-24T08:28:12.005001Z"
      ]
     },
     "execution_count": 10,
     "metadata": {},
     "output_type": "execute_result"
    }
   ],
   "source": [
    "import datetime\n",
    "dt = datetime.datetime(2009, 5, 24, 8, 28, 12, 5001)\n",
    "UTCDateTime(dt)"
   ]
  },
  {
   "cell_type": "markdown",
   "metadata": {},
   "source": [
    "## 2.2 Attribute Access"
   ]
  },
  {
   "cell_type": "code",
   "execution_count": 11,
   "metadata": {},
   "outputs": [],
   "source": [
    "time = UTCDateTime(\"2012-09-07T12:15:00\")"
   ]
  },
  {
   "cell_type": "code",
   "execution_count": 12,
   "metadata": {},
   "outputs": [
    {
     "data": {
      "text/plain": [
       "2012"
      ]
     },
     "execution_count": 12,
     "metadata": {},
     "output_type": "execute_result"
    }
   ],
   "source": [
    "time.year"
   ]
  },
  {
   "cell_type": "code",
   "execution_count": 13,
   "metadata": {},
   "outputs": [
    {
     "data": {
      "text/plain": [
       "251"
      ]
     },
     "execution_count": 13,
     "metadata": {},
     "output_type": "execute_result"
    }
   ],
   "source": [
    "time.julday #number of day ddd (1-365 or 1-366 in leap years)"
   ]
  },
  {
   "cell_type": "code",
   "execution_count": 14,
   "metadata": {},
   "outputs": [
    {
     "data": {
      "text/plain": [
       "1347020100.0"
      ]
     },
     "execution_count": 14,
     "metadata": {},
     "output_type": "execute_result"
    }
   ],
   "source": [
    "time.timestamp #Unix date (in second since 1 Jan 1970 0:00:00)"
   ]
  },
  {
   "cell_type": "code",
   "execution_count": 15,
   "metadata": {},
   "outputs": [
    {
     "data": {
      "text/plain": [
       "4"
      ]
     },
     "execution_count": 15,
     "metadata": {},
     "output_type": "execute_result"
    }
   ],
   "source": [
    "time.weekday"
   ]
  },
  {
   "cell_type": "markdown",
   "metadata": {},
   "source": [
    "## 2.3 Handling time differences"
   ]
  },
  {
   "cell_type": "code",
   "execution_count": 16,
   "metadata": {},
   "outputs": [
    {
     "name": "stdout",
     "output_type": "stream",
     "text": [
      "2012-09-07T13:15:00.000000Z\n"
     ]
    }
   ],
   "source": [
    "time = UTCDateTime(\"2012-09-07T12:15:00\")\n",
    "print(time + 3600) #plus 60 minutes (3600 secs)"
   ]
  },
  {
   "cell_type": "code",
   "execution_count": 17,
   "metadata": {},
   "outputs": [
    {
     "name": "stdout",
     "output_type": "stream",
     "text": [
      "21644100.0\n"
     ]
    }
   ],
   "source": [
    "time2 = UTCDateTime(2012, 1, 1) # 01/01/2012\n",
    "print(time - time2)"
   ]
  },
  {
   "cell_type": "markdown",
   "metadata": {},
   "source": [
    "## 2.4 Excercises"
   ]
  },
  {
   "cell_type": "markdown",
   "metadata": {},
   "source": [
    "1. Calculate the number of hours passed since your birth. Optional: Include the correct time zone. The current date and time can be obtained with >>> UTCDateTime()"
   ]
  },
  {
   "cell_type": "code",
   "execution_count": 30,
   "metadata": {},
   "outputs": [
    {
     "name": "stdout",
     "output_type": "stream",
     "text": [
      "birth_time =  1993-11-01T20:30:00.000000Z\n",
      "current time =  2019-06-27T08:01:55.715964Z\n",
      "dt =  809436715.715964\n",
      "dt(hr) =  3747.392202388722\n"
     ]
    }
   ],
   "source": [
    "from obspy.core import UTCDateTime\n",
    "birth_time = UTCDateTime(\"1993-11-04T18:30:00+7:00\")\n",
    "current_time = UTCDateTime()\n",
    "\n",
    "dt = current_time - birth_time\n",
    "\n",
    "print(\"birth_time = \", birth_time)\n",
    "print(\"current time = \",current_time)\n",
    "print(\"dt = \",dt)\n",
    "\n",
    "dt_hr = dt / (60 * 60 *60)\n",
    "\n",
    "print(\"dt(hr) = \", dt_hr)"
   ]
  },
  {
   "cell_type": "markdown",
   "metadata": {},
   "source": [
    "2. Get a list of 10 UTCDateTime objects, starting yesterday at 10:00 with a spacing of 90 minutes."
   ]
  },
  {
   "cell_type": "code",
   "execution_count": 48,
   "metadata": {},
   "outputs": [
    {
     "name": "stdout",
     "output_type": "stream",
     "text": [
      "yesterday + 0 min. =  2019-06-26T10:00:00.000000Z\n",
      "yesterday + 90 min. =  2019-06-26T11:30:00.000000Z\n",
      "yesterday + 180 min. =  2019-06-26T13:00:00.000000Z\n",
      "yesterday + 270 min. =  2019-06-26T14:30:00.000000Z\n",
      "yesterday + 360 min. =  2019-06-26T16:00:00.000000Z\n",
      "yesterday + 450 min. =  2019-06-26T17:30:00.000000Z\n",
      "yesterday + 540 min. =  2019-06-26T19:00:00.000000Z\n",
      "yesterday + 630 min. =  2019-06-26T20:30:00.000000Z\n",
      "yesterday + 720 min. =  2019-06-26T22:00:00.000000Z\n",
      "yesterday + 810 min. =  2019-06-26T23:30:00.000000Z\n"
     ]
    }
   ],
   "source": [
    "from obspy.core import UTCDateTime\n",
    "\n",
    "yesterday = UTCDateTime(\"2019-6-26T10:00:00\")\n",
    "\n",
    "for i in range(0, 10):\n",
    "    print(\"yesterday + {} min. = \".format(90*i), yesterday+90*60*i)"
   ]
  },
  {
   "cell_type": "markdown",
   "metadata": {},
   "source": [
    "3. The first session starts at 09:00 and lasts for 3 hours and 15 minutes. Assuming we want to have the coffee break 1234 seconds and 5 microseconds before it ends. At what time is the coffee break?"
   ]
  },
  {
   "cell_type": "code",
   "execution_count": 70,
   "metadata": {},
   "outputs": [
    {
     "data": {
      "text/plain": [
       "2019-06-27T11:54:25.500000Z"
      ]
     },
     "execution_count": 70,
     "metadata": {},
     "output_type": "execute_result"
    }
   ],
   "source": [
    "from obspy.core import UTCDateTime\n",
    "\n",
    "start = UTCDateTime(\"2019-6-27T09:00:00\")\n",
    "end = start + 3*60*60 + 15*60 # + 3 hours 15 minutes in second\n",
    "coffee_break = end - 1234.5\n",
    "\n",
    "UTCDateTime(coffee_break)"
   ]
  },
  {
   "cell_type": "markdown",
   "metadata": {},
   "source": [
    "4. Assume you had your last cup of coffee yesterday at breakfast. How many minutes do you have to survive with that cup of coffee?"
   ]
  },
  {
   "cell_type": "code",
   "execution_count": 71,
   "metadata": {},
   "outputs": [
    {
     "name": "stdout",
     "output_type": "stream",
     "text": [
      "dt_min = 1827.54445305 minutes\n"
     ]
    }
   ],
   "source": [
    "from obspy.core import UTCDateTime\n",
    "\n",
    "coffee = UTCDateTime(\"2019-06-26T09:00:00+07:00\")\n",
    "today = UTCDateTime()\n",
    "\n",
    "dt_sec = today - coffee\n",
    "\n",
    "#print(coffee)\n",
    "#print(today)\n",
    "print(\"dt_min = {} minutes\".format(dt_sec/60))"
   ]
  }
 ],
 "metadata": {
  "kernelspec": {
   "display_name": "Python 3",
   "language": "python",
   "name": "python3"
  },
  "language_info": {
   "codemirror_mode": {
    "name": "ipython",
    "version": 3
   },
   "file_extension": ".py",
   "mimetype": "text/x-python",
   "name": "python",
   "nbconvert_exporter": "python",
   "pygments_lexer": "ipython3",
   "version": "3.7.3"
  }
 },
 "nbformat": 4,
 "nbformat_minor": 2
}
